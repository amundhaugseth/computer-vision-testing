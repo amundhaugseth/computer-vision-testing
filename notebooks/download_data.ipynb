{
 "cells": [
  {
   "cell_type": "code",
   "execution_count": 1,
   "metadata": {},
   "outputs": [
    {
     "name": "stdout",
     "output_type": "stream",
     "text": [
      "MNIST data saved successfully!\n"
     ]
    }
   ],
   "source": [
    "from sklearn.datasets import fetch_openml\n",
    "import os\n",
    "import numpy as np\n",
    "\n",
    "# Define the path\n",
    "path = \"../data/raw\"\n",
    "\n",
    "# Fetch the 'MNIST original' dataset\n",
    "X, y = fetch_openml('mnist_784', version=1, return_X_y=True, as_frame=False, parser='auto')\n",
    "\n",
    "# Create directory if it does not exist\n",
    "os.makedirs(path, exist_ok=True)\n",
    "\n",
    "# Save features and labels to the defined path\n",
    "np.save(os.path.join(path, 'mnist_features.npy'), X)\n",
    "np.save(os.path.join(path, 'mnist_labels.npy'), y)\n",
    "\n",
    "print(\"MNIST data saved successfully!\")"
   ]
  },
  {
   "cell_type": "code",
   "execution_count": null,
   "metadata": {},
   "outputs": [],
   "source": []
  }
 ],
 "metadata": {
  "kernelspec": {
   "display_name": "base",
   "language": "python",
   "name": "python3"
  },
  "language_info": {
   "codemirror_mode": {
    "name": "ipython",
    "version": 3
   },
   "file_extension": ".py",
   "mimetype": "text/x-python",
   "name": "python",
   "nbconvert_exporter": "python",
   "pygments_lexer": "ipython3",
   "version": "3.10.11"
  },
  "orig_nbformat": 4
 },
 "nbformat": 4,
 "nbformat_minor": 2
}
